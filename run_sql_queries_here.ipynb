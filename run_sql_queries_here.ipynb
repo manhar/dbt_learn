{
 "cells": [
  {
   "cell_type": "code",
<<<<<<< HEAD
   "execution_count": 12,
=======
   "execution_count": 20,
>>>>>>> e420b6012c6cf7b74bcc7111e4e110d65a77ca40
   "metadata": {},
   "outputs": [
    {
     "name": "stdout",
     "output_type": "stream",
     "text": [
<<<<<<< HEAD
      "packages imported\n"
=======
      "Import packages\n"
>>>>>>> e420b6012c6cf7b74bcc7111e4e110d65a77ca40
     ]
    }
   ],
   "source": [
<<<<<<< HEAD
    "import duckdb\n",
    "import pandas as pd \n",
    "print (\"packages imported\")"
=======
    "\n",
    "import pandas as pd \n",
    "import duckdb\n",
    "\n",
    " \n",
    "print (\"Import packages\")\n",
    "\n",
    "db='data/my_duckdb.db'\n"
>>>>>>> e420b6012c6cf7b74bcc7111e4e110d65a77ca40
   ]
  },
  {
   "cell_type": "code",
<<<<<<< HEAD
   "execution_count": 10,
=======
   "execution_count": 37,
>>>>>>> e420b6012c6cf7b74bcc7111e4e110d65a77ca40
   "metadata": {},
   "outputs": [
    {
     "data": {
      "text/html": [
       "<div>\n",
       "<style scoped>\n",
       "    .dataframe tbody tr th:only-of-type {\n",
       "        vertical-align: middle;\n",
       "    }\n",
       "\n",
       "    .dataframe tbody tr th {\n",
       "        vertical-align: top;\n",
       "    }\n",
       "\n",
       "    .dataframe thead th {\n",
       "        text-align: right;\n",
       "    }\n",
       "</style>\n",
       "<table border=\"1\" class=\"dataframe\">\n",
       "  <thead>\n",
       "    <tr style=\"text-align: right;\">\n",
       "      <th></th>\n",
<<<<<<< HEAD
       "      <th>id</th>\n",
=======
       "      <th>name</th>\n",
>>>>>>> e420b6012c6cf7b74bcc7111e4e110d65a77ca40
       "    </tr>\n",
       "  </thead>\n",
       "  <tbody>\n",
       "    <tr>\n",
       "      <th>0</th>\n",
<<<<<<< HEAD
       "      <td>1.0</td>\n",
       "    </tr>\n",
       "    <tr>\n",
       "      <th>1</th>\n",
       "      <td>1.0</td>\n",
       "    </tr>\n",
       "    <tr>\n",
       "      <th>2</th>\n",
       "      <td>NaN</td>\n",
=======
       "      <td>netflix_titles</td>\n",
>>>>>>> e420b6012c6cf7b74bcc7111e4e110d65a77ca40
       "    </tr>\n",
       "  </tbody>\n",
       "</table>\n",
       "</div>"
      ],
      "text/plain": [
<<<<<<< HEAD
       "    id\n",
       "0  1.0\n",
       "1  1.0\n",
       "2  NaN"
=======
       "             name\n",
       "0  netflix_titles"
>>>>>>> e420b6012c6cf7b74bcc7111e4e110d65a77ca40
      ]
     },
     "metadata": {},
     "output_type": "display_data"
    }
   ],
   "source": [
<<<<<<< HEAD
    "#creating an  empty duckdb database \n",
    "\n",
    "sql_query = ''' \n",
    "select * from my_first_dbt_model\n",
    "'''\n",
    "\n",
    "with duckdb.connect('data/my_duckdb.db') as con:\n",
=======
    "#creating an empty duckdb database\n",
    "\n",
    "sql_query=''' \n",
    "show tables\n",
    "'''\n",
    "\n",
    "with duckdb.connect(db) as con:\n",
>>>>>>> e420b6012c6cf7b74bcc7111e4e110d65a77ca40
    "    display(con.sql(sql_query).df())"
   ]
  },
  {
   "cell_type": "code",
<<<<<<< HEAD
   "execution_count": 14,
   "metadata": {},
   "outputs": [],
   "source": [
    "def run_query(sql_query):\n",
    "    with duckdb.connect('data/my_duckdb.db') as con:\n",
    "        display(con.sql(sql_query).df())\n",
    "\n",
    "\n",
    "\n",
    "\n",
    "\n",
    "\n",
    "  "
=======
   "execution_count": 38,
   "metadata": {},
   "outputs": [
    {
     "data": {
      "text/plain": [
       "┌─────────┬─────────┬──────────────────────┬───┬───────────┬──────────────────────┬──────────────────────┐\n",
       "│ show_id │  type   │        title         │ … │ duration  │      listed_in       │     description      │\n",
       "│ varchar │ varchar │       varchar        │   │  varchar  │       varchar        │       varchar        │\n",
       "├─────────┼─────────┼──────────────────────┼───┼───────────┼──────────────────────┼──────────────────────┤\n",
       "│ s1      │ Movie   │ Dick Johnson Is Dead │ … │ 90 min    │ Documentaries        │ As her father near…  │\n",
       "│ s2      │ TV Show │ Blood & Water        │ … │ 2 Seasons │ International TV S…  │ After crossing pat…  │\n",
       "│ s3      │ TV Show │ Ganglands            │ … │ 1 Season  │ Crime TV Shows, In…  │ To protect his fam…  │\n",
       "│ s4      │ TV Show │ Jailbirds New Orle…  │ … │ 1 Season  │ Docuseries, Realit…  │ Feuds, flirtations…  │\n",
       "│ s5      │ TV Show │ Kota Factory         │ … │ 2 Seasons │ International TV S…  │ In a city of coach…  │\n",
       "│ s6      │ TV Show │ Midnight Mass        │ … │ 1 Season  │ TV Dramas, TV Horr…  │ The arrival of a c…  │\n",
       "│ s7      │ Movie   │ My Little Pony: A …  │ … │ 91 min    │ Children & Family …  │ Equestria's divide…  │\n",
       "│ s8      │ Movie   │ Sankofa              │ … │ 125 min   │ Dramas, Independen…  │ On a photo shoot i…  │\n",
       "│ s9      │ TV Show │ The Great British …  │ … │ 9 Seasons │ British TV Shows, …  │ A talented batch o…  │\n",
       "│ s10     │ Movie   │ The Starling         │ … │ 104 min   │ Comedies, Dramas     │ A woman adjusting …  │\n",
       "│  ·      │   ·     │     ·                │ · │    ·      │    ·                 │          ·           │\n",
       "│  ·      │   ·     │     ·                │ · │    ·      │    ·                 │          ·           │\n",
       "│  ·      │   ·     │     ·                │ · │    ·      │    ·                 │          ·           │\n",
       "│ s8798   │ TV Show │ Zak Storm            │ … │ 3 Seasons │ Kids' TV             │ Teen surfer Zak St…  │\n",
       "│ s8799   │ Movie   │ Zed Plus             │ … │ 131 min   │ Comedies, Dramas, …  │ A philandering sma…  │\n",
       "│ s8800   │ Movie   │ Zenda                │ … │ 120 min   │ Dramas, Internatio…  │ A change in the le…  │\n",
       "│ s8801   │ TV Show │ Zindagi Gulzar Hai   │ … │ 1 Season  │ International TV S…  │ Strong-willed, mid…  │\n",
       "│ s8802   │ Movie   │ Zinzana              │ … │ 96 min    │ Dramas, Internatio…  │ Recovering alcohol…  │\n",
       "│ s8803   │ Movie   │ Zodiac               │ … │ 158 min   │ Cult Movies, Drama…  │ A political cartoo…  │\n",
       "│ s8804   │ TV Show │ Zombie Dumb          │ … │ 2 Seasons │ Kids' TV, Korean T…  │ While living alone…  │\n",
       "│ s8805   │ Movie   │ Zombieland           │ … │ 88 min    │ Comedies, Horror M…  │ Looking to survive…  │\n",
       "│ s8806   │ Movie   │ Zoom                 │ … │ 88 min    │ Children & Family …  │ Dragged from civil…  │\n",
       "│ s8807   │ Movie   │ Zubaan               │ … │ 111 min   │ Dramas, Internatio…  │ A scrappy but poor…  │\n",
       "├─────────┴─────────┴──────────────────────┴───┴───────────┴──────────────────────┴──────────────────────┤\n",
       "│ 8807 rows (20 shown)                                                              12 columns (6 shown) │\n",
       "└────────────────────────────────────────────────────────────────────────────────────────────────────────┘"
      ]
     },
     "execution_count": 38,
     "metadata": {},
     "output_type": "execute_result"
    }
   ],
   "source": [
    "duckdb.sql(\" select * from 'data/netflix_titles.csv' \")"
   ]
  },
  {
   "cell_type": "code",
   "execution_count": 49,
   "metadata": {},
   "outputs": [],
   "source": [
    "#add data to duckdb database from csv files\n",
    "\n",
    "#duckdb.read_csv('data/netflix_titles.csv')\n",
    "\n",
    "\n",
    "\n",
    "sql_query_import_netflix_data = ''' \n",
    "\n",
    "CREATE OR REPLACE TABLE netflix_titles as \n",
    "\n",
    "select * \n",
    "from read_csv_auto(\n",
    "'data/netflix_titles.csv' ,\n",
    "normalize_names = True\n",
    ")\n",
    "\n",
    "'''\n",
    "with duckdb.connect(db) as con:\n",
    "  con.sql(sql_query_import_netflix_data) "
>>>>>>> e420b6012c6cf7b74bcc7111e4e110d65a77ca40
   ]
  },
  {
   "cell_type": "code",
<<<<<<< HEAD
   "execution_count": 15,
   "metadata": {},
   "outputs": [
    {
     "data": {
      "text/html": [
       "<div>\n",
       "<style scoped>\n",
       "    .dataframe tbody tr th:only-of-type {\n",
       "        vertical-align: middle;\n",
       "    }\n",
       "\n",
       "    .dataframe tbody tr th {\n",
       "        vertical-align: top;\n",
       "    }\n",
       "\n",
       "    .dataframe thead th {\n",
       "        text-align: right;\n",
       "    }\n",
       "</style>\n",
       "<table border=\"1\" class=\"dataframe\">\n",
       "  <thead>\n",
       "    <tr style=\"text-align: right;\">\n",
       "      <th></th>\n",
       "      <th>id</th>\n",
       "      <th>cnt</th>\n",
       "    </tr>\n",
       "  </thead>\n",
       "  <tbody>\n",
       "    <tr>\n",
       "      <th>0</th>\n",
       "      <td>1</td>\n",
       "      <td>2</td>\n",
       "    </tr>\n",
       "  </tbody>\n",
       "</table>\n",
       "</div>"
      ],
      "text/plain": [
       "   id  cnt\n",
       "0   1    2"
      ]
     },
     "metadata": {},
     "output_type": "display_data"
    }
   ],
   "source": [
    "run_query(  \"\"\" select * from \"my_duckdb\".\"main_dbt_test__audit\".\"generic_count_check_my_first_dbt_model_id\"  \"\"\")"
   ]
  },
  {
   "cell_type": "code",
   "execution_count": 16,
   "metadata": {},
   "outputs": [
    {
     "data": {
      "text/html": [
       "<div>\n",
       "<style scoped>\n",
       "    .dataframe tbody tr th:only-of-type {\n",
       "        vertical-align: middle;\n",
       "    }\n",
       "\n",
       "    .dataframe tbody tr th {\n",
       "        vertical-align: top;\n",
       "    }\n",
       "\n",
       "    .dataframe thead th {\n",
       "        text-align: right;\n",
       "    }\n",
       "</style>\n",
       "<table border=\"1\" class=\"dataframe\">\n",
       "  <thead>\n",
       "    <tr style=\"text-align: right;\">\n",
       "      <th></th>\n",
       "      <th>unique_field</th>\n",
       "      <th>n_records</th>\n",
       "    </tr>\n",
       "  </thead>\n",
       "  <tbody>\n",
       "    <tr>\n",
       "      <th>0</th>\n",
       "      <td>1</td>\n",
       "      <td>2</td>\n",
       "    </tr>\n",
       "  </tbody>\n",
       "</table>\n",
       "</div>"
      ],
      "text/plain": [
       "   unique_field  n_records\n",
       "0             1          2"
      ]
     },
     "metadata": {},
     "output_type": "display_data"
    }
   ],
   "source": [
    "run_query(\"\"\"  select * from \"my_duckdb\".\"main_dbt_test__audit\".\"unique_my_first_dbt_model_id\" \"\"\")"
=======
   "execution_count": 50,
   "metadata": {},
   "outputs": [],
   "source": [
    "sql_query= '''\n",
    "select * from netflix_titles\n",
    "'''\n",
    "\n",
    "with duckdb.connect(db) as con:\n",
    "    con.sql(sql_query)"
>>>>>>> e420b6012c6cf7b74bcc7111e4e110d65a77ca40
   ]
  }
 ],
 "metadata": {
  "kernelspec": {
<<<<<<< HEAD
   "display_name": "dbt-env",
=======
   "display_name": "activate",
>>>>>>> e420b6012c6cf7b74bcc7111e4e110d65a77ca40
   "language": "python",
   "name": "python3"
  },
  "language_info": {
   "codemirror_mode": {
    "name": "ipython",
    "version": 3
   },
   "file_extension": ".py",
   "mimetype": "text/x-python",
   "name": "python",
   "nbconvert_exporter": "python",
   "pygments_lexer": "ipython3",
   "version": "3.9.6"
  }
 },
 "nbformat": 4,
 "nbformat_minor": 2
}
